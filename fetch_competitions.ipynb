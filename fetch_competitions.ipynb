{
 "cells": [
  {
   "cell_type": "code",
   "execution_count": 1,
   "id": "46def23f-c4e1-4063-98d7-e0328b9cf26b",
   "metadata": {},
   "outputs": [
    {
     "name": "stdout",
     "output_type": "stream",
     "text": [
      "Requirement already satisfied: pymysql in c:\\users\\rahul\\appdata\\local\\packages\\pythonsoftwarefoundation.python.3.11_qbz5n2kfra8p0\\localcache\\local-packages\\python311\\site-packages (1.1.1)\n",
      "Note: you may need to restart the kernel to use updated packages.\n"
     ]
    }
   ],
   "source": [
    "pip install pymysql"
   ]
  },
  {
   "cell_type": "code",
   "execution_count": 1,
   "id": "a97ecf18-c206-440a-8d6f-63f461b85bc0",
   "metadata": {},
   "outputs": [],
   "source": [
    "import requests\n",
    "import pymysql  # ✅ Correct connector\n",
    "\n",
    "# API details\n",
    "api_key = \"9vwTpZnV8T3jHXHKfpAU116yzoSYHMJJ8iimvq7w\"\n",
    "url = f\"https://api.sportradar.com/tennis/trial/v3/en/competitions.json?api_key={api_key}\"\n",
    "\n",
    "# Fetch data from API\n",
    "data = requests.get(url).json()\n",
    "\n",
    "# Connect to MySQL using PyMySQL\n",
    "conn = pymysql.connect(\n",
    "    host=\"127.0.0.1\",\n",
    "    user=\"root\",\n",
    "    password=\"Laptop@321\",\n",
    "    database=\"tennis\"\n",
    ")\n",
    "cursor = conn.cursor()\n",
    "\n",
    "# Insert data into MySQL tables\n",
    "for comp in data.get(\"competitions\", []):\n",
    "    cat = comp[\"category\"]\n",
    "\n",
    "    # Insert or update into Categories table\n",
    "    cursor.execute(\"\"\"\n",
    "        INSERT INTO Categories (category_id, category_name) \n",
    "        VALUES (%s, %s) \n",
    "        ON DUPLICATE KEY UPDATE category_name = VALUES(category_name)\n",
    "    \"\"\", (cat[\"id\"], cat[\"name\"]))\n",
    "\n",
    "    # Insert or update into Competitions table\n",
    "    cursor.execute(\"\"\"\n",
    "        INSERT INTO Competitions (competition_id, competition_name, parent_id, type, gender, category_id) \n",
    "        VALUES (%s, %s, %s, %s, %s, %s) \n",
    "        ON DUPLICATE KEY UPDATE \n",
    "            competition_name = VALUES(competition_name), \n",
    "            parent_id = VALUES(parent_id), \n",
    "            type = VALUES(type), \n",
    "            gender = VALUES(gender), \n",
    "            category_id = VALUES(category_id)\n",
    "    \"\"\", (\n",
    "        comp[\"id\"],\n",
    "        comp[\"name\"],\n",
    "        comp.get(\"parent_id\"),\n",
    "        comp.get(\"type\"),\n",
    "        comp.get(\"gender\"),\n",
    "        cat[\"id\"]\n",
    "    ))\n",
    "\n",
    "# Finalize\n",
    "conn.commit()\n",
    "cursor.close()\n",
    "conn.close()\n"
   ]
  },
  {
   "cell_type": "code",
   "execution_count": null,
   "id": "bb4402be-28d1-42fe-9db7-19c9f062717b",
   "metadata": {},
   "outputs": [],
   "source": []
  }
 ],
 "metadata": {
  "kernelspec": {
   "display_name": "Python 3 (ipykernel)",
   "language": "python",
   "name": "python3"
  },
  "language_info": {
   "codemirror_mode": {
    "name": "ipython",
    "version": 3
   },
   "file_extension": ".py",
   "mimetype": "text/x-python",
   "name": "python",
   "nbconvert_exporter": "python",
   "pygments_lexer": "ipython3",
   "version": "3.11.9"
  }
 },
 "nbformat": 4,
 "nbformat_minor": 5
}
