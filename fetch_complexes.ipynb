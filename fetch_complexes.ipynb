{
 "cells": [
  {
   "cell_type": "code",
   "execution_count": 6,
   "id": "58ca937d-84cf-495e-982c-bc995bdd8210",
   "metadata": {},
   "outputs": [
    {
     "name": "stdout",
     "output_type": "stream",
     "text": [
      "Collecting pymysql\n",
      "  Downloading PyMySQL-1.1.1-py3-none-any.whl.metadata (4.4 kB)\n",
      "Downloading PyMySQL-1.1.1-py3-none-any.whl (44 kB)\n",
      "Installing collected packages: pymysql\n",
      "Successfully installed pymysql-1.1.1\n",
      "Note: you may need to restart the kernel to use updated packages.\n"
     ]
    }
   ],
   "source": [
    "pip install pymysql"
   ]
  },
  {
   "cell_type": "code",
   "execution_count": 1,
   "id": "fd729059-b7c5-4e1c-bf74-c589c64165bf",
   "metadata": {},
   "outputs": [],
   "source": [
    "import pymysql\n",
    "import requests\n",
    "\n",
    "# API details \n",
    "api_key=\"9vwTpZnV8T3jHXHKfpAU116yzoSYHMJJ8iimvq7w\"\n",
    "# Fetch data from API\n",
    "url = f\"https://api.sportradar.com/tennis/trial/v3/en/complexes.json?api_key={api_key}\"\n",
    "data = requests.get(url).json()\n",
    "\n",
    "# Connect using PyMySQL\n",
    "conn = pymysql.connect(\n",
    "    host=\"127.0.0.1\",\n",
    "    user=\"root\",\n",
    "    password=\"Laptop@321\",\n",
    "    database=\"tennis\"\n",
    ")\n",
    "cursor = conn.cursor()\n",
    "\n",
    "# Insert complexes and venues\n",
    "for comp in data.get(\"complexes\", []):\n",
    "    cursor.execute(\"\"\"\n",
    "        INSERT INTO Complexes (complex_id, complex_name) \n",
    "        VALUES (%s, %s) \n",
    "        ON DUPLICATE KEY UPDATE complex_name = %s\n",
    "    \"\"\", (comp[\"id\"], comp[\"name\"], comp[\"name\"]))\n",
    "\n",
    "    for v in comp.get(\"venues\", []):\n",
    "        cursor.execute(\"\"\"\n",
    "            INSERT INTO Venues (venue_id, venue_name, city_name, country_name, country_code, timezone, complex_id)\n",
    "            VALUES (%s, %s, %s, %s, %s, %s, %s)\n",
    "            ON DUPLICATE KEY UPDATE \n",
    "                venue_name = VALUES(venue_name),\n",
    "                city_name = VALUES(city_name),\n",
    "                country_name = VALUES(country_name),\n",
    "                country_code = VALUES(country_code),\n",
    "                timezone = VALUES(timezone),\n",
    "                complex_id = VALUES(complex_id)\n",
    "        \"\"\", (\n",
    "            v[\"id\"],\n",
    "            v[\"name\"],\n",
    "            v[\"city_name\"],\n",
    "            v[\"country_name\"],\n",
    "            v[\"country_code\"],\n",
    "            v[\"timezone\"],\n",
    "            comp[\"id\"]\n",
    "        ))\n",
    "\n",
    "# Finalize and close\n",
    "conn.commit()\n",
    "cursor.close()\n",
    "conn.close()\n"
   ]
  },
  {
   "cell_type": "code",
   "execution_count": null,
   "id": "ea677df3-661f-4ec1-99d4-a2a57cfe8593",
   "metadata": {},
   "outputs": [],
   "source": []
  }
 ],
 "metadata": {
  "kernelspec": {
   "display_name": "Python 3 (ipykernel)",
   "language": "python",
   "name": "python3"
  },
  "language_info": {
   "codemirror_mode": {
    "name": "ipython",
    "version": 3
   },
   "file_extension": ".py",
   "mimetype": "text/x-python",
   "name": "python",
   "nbconvert_exporter": "python",
   "pygments_lexer": "ipython3",
   "version": "3.11.9"
  }
 },
 "nbformat": 4,
 "nbformat_minor": 5
}
