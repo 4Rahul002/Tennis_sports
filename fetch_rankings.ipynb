{
 "cells": [
  {
   "cell_type": "code",
   "execution_count": 1,
   "id": "36a04d3b-a6ad-49dc-b163-1cae310aeb3b",
   "metadata": {},
   "outputs": [
    {
     "name": "stdout",
     "output_type": "stream",
     "text": [
      "Requirement already satisfied: pymysql in c:\\users\\rahul\\appdata\\local\\packages\\pythonsoftwarefoundation.python.3.11_qbz5n2kfra8p0\\localcache\\local-packages\\python311\\site-packages (1.1.1)\n",
      "Note: you may need to restart the kernel to use updated packages.\n"
     ]
    }
   ],
   "source": [
    "pip install pymysql"
   ]
  },
  {
   "cell_type": "code",
   "execution_count": 11,
   "id": "28646682-5ac8-415f-af01-90ffca7a2da2",
   "metadata": {},
   "outputs": [],
   "source": [
    "import requests\n",
    "import pymysql\n",
    "\n",
    "# API details\n",
    "api_key = \"9vwTpZnV8T3jHXHKfpAU116yzoSYHMJJ8iimvq7w\"\n",
    "url = f\"https://api.sportradar.com/tennis/trial/v3/en/double_competitors_rankings.json?api_key={api_key}\"\n",
    "\n",
    "# Fetch data from API\n",
    "data = requests.get(url).json()\n",
    "\n",
    "# Connect to MySQL using PyMySQL\n",
    "conn = pymysql.connect(\n",
    "    host=\"127.0.0.1\",\n",
    "    user=\"root\",\n",
    "    password=\"Laptop@321\",\n",
    "    database=\"tennis\"\n",
    ")\n",
    "cursor = conn.cursor()\n",
    "\n",
    "# Loop through the rankings and then through competitor_rankings\n",
    "for ranking in data.get(\"rankings\", []):\n",
    "    for competitor_ranking in ranking.get(\"competitor_rankings\", []):\n",
    "        c = competitor_ranking[\"competitor\"]\n",
    "\n",
    "        # Insert or update Competitors table\n",
    "        cursor.execute(\"\"\"\n",
    "            INSERT INTO Competitor (competitor_id, name, country, country_code, abbreviation)\n",
    "            VALUES (%s, %s, %s, %s, %s)\n",
    "            ON DUPLICATE KEY UPDATE\n",
    "                name = VALUES(name),\n",
    "                country = VALUES(country),\n",
    "                country_code = VALUES(country_code),\n",
    "                abbreviation = VALUES(abbreviation)\n",
    "        \"\"\", (c[\"id\"], c[\"name\"], c.get(\"country\", \"\"), c.get(\"country_code\", \"\"), c.get(\"abbreviation\", \"\")))\n",
    "\n",
    "        # Insert into Competitor_Rankings table\n",
    "        cursor.execute(\"\"\"\n",
    "            INSERT INTO Competitor_Rankings (`rank`, movement, points, competitions_played, competitor_id)\n",
    "            VALUES (%s, %s, %s, %s, %s)\n",
    "        \"\"\", (competitor_ranking[\"rank\"], competitor_ranking.get(\"movement\", 0), competitor_ranking.get(\"points\", 0), competitor_ranking.get(\"competitions_played\", 0), c[\"id\"]))\n",
    "\n",
    "# Commit and close\n",
    "conn.commit()\n",
    "cursor.close()\n",
    "conn.close()\n"
   ]
  },
  {
   "cell_type": "code",
   "execution_count": null,
   "id": "b11b9873-fc94-4993-b07f-f3148e711c8d",
   "metadata": {},
   "outputs": [],
   "source": []
  }
 ],
 "metadata": {
  "kernelspec": {
   "display_name": "Python 3 (ipykernel)",
   "language": "python",
   "name": "python3"
  },
  "language_info": {
   "codemirror_mode": {
    "name": "ipython",
    "version": 3
   },
   "file_extension": ".py",
   "mimetype": "text/x-python",
   "name": "python",
   "nbconvert_exporter": "python",
   "pygments_lexer": "ipython3",
   "version": "3.11.9"
  }
 },
 "nbformat": 4,
 "nbformat_minor": 5
}
